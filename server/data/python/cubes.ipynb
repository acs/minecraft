{
 "cells": [
  {
   "cell_type": "code",
   "execution_count": 1,
   "metadata": {},
   "outputs": [],
   "source": [
    "from mcpi import block\n",
    "from mcpi.minecraft import Minecraft\n",
    "\n",
    "\n",
    "# El objetivo de este tutorial es aprender a trabajar\n",
    "# con cubos en Minecraft con el objetivo de hacer casas\n",
    "\n",
    "BUILDER_NAME = \"ElasticExplorer\"\n",
    "\n",
    "MC_SEVER_HOST = \"minecraft\"\n",
    "MC_SEVER_PORT = 4711\n",
    "CUBE_HEIGHT = 3\n",
    "CUBE_BLOCK = block.BRICK_BLOCK\n",
    "\n",
    "# Nos conectamos al servidor de Minecraft\n",
    "mc = Minecraft.create(address=MC_SEVER_HOST, port=MC_SEVER_PORT)\n",
    "mc.postToChat(\"Construyendo cubos\")\n",
    "\n",
    "# Buscamos la posición en el mundo de nuestro jugador\n",
    "# Esto sólo vale en singleplayer\n",
    "# p = mc.player.getTilePos()\n",
    "\n",
    "p = mc.entity.getTilePos(mc.getPlayerEntityId(BUILDER_NAME))\n",
    "\n",
    "# El cubo lo hacemos delante del jugador\n",
    "init_x = p.x + 1\n",
    "init_y = p.y\n",
    "init_z = p.z\n",
    "\n",
    "mc.setBlocks(init_x,               init_y,               init_z,\n",
    "             init_x + CUBE_HEIGHT, init_y + CUBE_HEIGHT, init_z + CUBE_HEIGHT,\n",
    "             CUBE_BLOCK)\n",
    "\n",
    "# Y lo rellenamos de aire para que pueda ser una casa\n",
    "# El grosor de las paredes podemos regularlo\n",
    "WALL_WIDTH = 1\n",
    "mc.setBlocks(init_x + WALL_WIDTH,               init_y + WALL_WIDTH,               init_z + WALL_WIDTH,\n",
    "             init_x + CUBE_HEIGHT - WALL_WIDTH, init_y + CUBE_HEIGHT - WALL_WIDTH, init_z + CUBE_HEIGHT - WALL_WIDTH,\n",
    "             block.AIR)"
   ]
  }
 ],
 "metadata": {
  "kernelspec": {
   "display_name": "Python 3",
   "language": "python",
   "name": "python3"
  },
  "language_info": {
   "codemirror_mode": {
    "name": "ipython",
    "version": 3
   },
   "file_extension": ".py",
   "mimetype": "text/x-python",
   "name": "python",
   "nbconvert_exporter": "python",
   "pygments_lexer": "ipython3",
   "version": "3.7.6"
  }
 },
 "nbformat": 4,
 "nbformat_minor": 4
}
