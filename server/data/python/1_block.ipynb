{
 "cells": [
  {
   "cell_type": "code",
   "execution_count": 3,
   "metadata": {},
   "outputs": [],
   "source": [
    "from mcpi import block\n",
    "from mcpi.minecraft import Minecraft\n",
    "\n",
    "\n",
    "# El objetivo de este tutorial es aprender a trabajar\n",
    "# con la pieza mínima: un bloque\n",
    "\n",
    "\n",
    "# Nombre del jugador que va a construir las cosas\n",
    "BUILDER_NAME = \"ElasticExplorer\"\n",
    "\n",
    "# Datos del servidor de Minecraft\n",
    "MC_SEVER_HOST = \"minecraft\"\n",
    "MC_SEVER_PORT = 4711\n",
    "\n",
    "# Nos conectamos al servidor de Minecraft\n",
    "mc = Minecraft.create(address=MC_SEVER_HOST, port=MC_SEVER_PORT)\n",
    "mc.postToChat(\"Construyendo un bloque\")\n",
    "\n",
    "# Buscamos la posición en el mundo de nuestro jugador\n",
    "# Esto sólo vale en singleplayer\n",
    "# p = mc.player.getTilePos()\n",
    "p = mc.entity.getTilePos(mc.getPlayerEntityId(BUILDER_NAME))\n",
    "\n",
    "# Coordenadas del jugador en las que se crea el bloque\n",
    "# Nos separamos de donde estamos para no quedarnos dentro\n",
    "init_x = p.x + 1\n",
    "init_y = p.y\n",
    "init_z = p.z\n",
    "\n",
    "block_type = block.BRICK_BLOCK\n",
    "# block_type = block.AIR\n",
    "\n",
    "# Creamos el bloque donde esta el jugador\n",
    "mc.setBlock(init_x, init_y, init_z, block_type)"
   ]
  }
 ],
 "metadata": {
  "kernelspec": {
   "display_name": "Python 3",
   "language": "python",
   "name": "python3"
  },
  "language_info": {
   "codemirror_mode": {
    "name": "ipython",
    "version": 3
   },
   "file_extension": ".py",
   "mimetype": "text/x-python",
   "name": "python",
   "nbconvert_exporter": "python",
   "pygments_lexer": "ipython3",
   "version": "3.7.6"
  }
 },
 "nbformat": 4,
 "nbformat_minor": 4
}
