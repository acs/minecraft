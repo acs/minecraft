{
 "cells": [
  {
   "cell_type": "code",
   "execution_count": 9,
   "metadata": {},
   "outputs": [],
   "source": [
    "from mcpi import block\n",
    "from mcpi.minecraft import Minecraft\n",
    "\n",
    "\n",
    "# El objetivo de este tutorial mostrar como se usa el chat\n",
    "\n",
    "\n",
    "# Nombre del jugador que va a construir las cosas\n",
    "BUILDER_NAME = \"ElasticExplorer\"\n",
    "\n",
    "# Datos del servidor de Minecraft\n",
    "MC_SEVER_HOST = \"minecraft\"\n",
    "MC_SEVER_PORT = 4711\n",
    "\n",
    "# Nos conectamos al servidor de Minecraft\n",
    "mc = Minecraft.create(address=MC_SEVER_HOST, port=MC_SEVER_PORT)\n",
    "\n",
    "# Mostramos (post) un mensaje en el chat\n",
    "mc.postToChat(\"Hola desde Minecraft\")"
   ]
  }
 ],
 "metadata": {
  "kernelspec": {
   "display_name": "Python 3",
   "language": "python",
   "name": "python3"
  },
  "language_info": {
   "codemirror_mode": {
    "name": "ipython",
    "version": 3
   },
   "file_extension": ".py",
   "mimetype": "text/x-python",
   "name": "python",
   "nbconvert_exporter": "python",
   "pygments_lexer": "ipython3",
   "version": "3.7.6"
  }
 },
 "nbformat": 4,
 "nbformat_minor": 4
}
