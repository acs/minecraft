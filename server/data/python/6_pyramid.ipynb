{
 "cells": [
  {
   "cell_type": "code",
   "execution_count": 1,
   "metadata": {},
   "outputs": [],
   "source": [
    "from mcpi import block\n",
    "from mcpi.minecraft import Minecraft\n",
    "\n",
    "\n",
    "# El objetivo de este tutorial es construir pirámides en Minecraft\n",
    "\n",
    "\n",
    "BUILDER_NAME = \"ElasticExplorer\"\n",
    "\n",
    "MC_SEVER_HOST = \"minecraft\"\n",
    "MC_SEVER_PORT = 4711\n",
    "\n",
    "# Altura de la pirámida\n",
    "PYRAMID_HEIGHT = 10\n",
    "# Tipo de bloque de construcción\n",
    "PYRAMID_BLOCK = block.SAND\n",
    "\n",
    "# Nos conectamos al servidor de Minecraft\n",
    "mc = Minecraft.create(address=MC_SEVER_HOST, port=MC_SEVER_PORT)\n",
    "mc.postToChat(\"Construyendo una pirámide de \" + str(PYRAMID_HEIGHT) + \" de altura!\")\n",
    "\n",
    "# Buscamos la posición en el mundo de nuestro jugador\n",
    "# Esto sólo vale en singleplayer\n",
    "# p = mc.player.getTilePos()\n",
    "p = mc.entity.getTilePos(mc.getPlayerEntityId(BUILDER_NAME))\n",
    "\n",
    "# La pirámide la hacemos delante del jugador\n",
    "init_x = p.x + 1\n",
    "init_y = p.y\n",
    "init_z = p.z\n",
    "\n",
    "# La longitud (x) y la anchura (z) siempre son iguales\n",
    "# La relación entre la altura y la longitud/anchura es Longitud/Anchura = 2 * Altura - 1\n",
    "length = 2 * PYRAMID_HEIGHT - 1\n",
    "width = length\n",
    "\n",
    "# Dibujamos la pirámide por niveles hasta llegar a 1 bloque en la altura final\n",
    "for i in range(0, PYRAMID_HEIGHT):\n",
    "    level = i\n",
    "    mc.setBlocks(init_x + level,              init_y + level, init_z + level,\n",
    "                 init_x + (length-1) - level, init_y + level, init_z + (width-1) - level,\n",
    "                 PYRAMID_BLOCK)\n",
    "\n",
    "# TODO: Movemos al jugador a la cima de la pirámide"
   ]
  }
 ],
 "metadata": {
  "kernelspec": {
   "display_name": "Python 3",
   "language": "python",
   "name": "python3"
  },
  "language_info": {
   "codemirror_mode": {
    "name": "ipython",
    "version": 3
   },
   "file_extension": ".py",
   "mimetype": "text/x-python",
   "name": "python",
   "nbconvert_exporter": "python",
   "pygments_lexer": "ipython3",
   "version": "3.7.6"
  }
 },
 "nbformat": 4,
 "nbformat_minor": 4
}
